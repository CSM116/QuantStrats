{
 "cells": [
  {
   "cell_type": "code",
   "execution_count": null,
   "id": "ac923921-c148-45c6-9373-8247f4bf6841",
   "metadata": {},
   "outputs": [],
   "source": [
    "import yfinance as yf\n",
    "import pandas as pd\n",
    "import numpy as np\n",
    "\n",
    "import ipywidgets as widgets\n",
    "from IPython.display import display\n",
    "from datetime import date, timedelta\n",
    "\n",
    "import plotly.graph_objects as go\n",
    "from plotly.subplots import make_subplots\n",
    "import plotly.io as pio\n",
    "pio.renderers.default = 'notebook'\n",
    "\n",
    "import ptm_lib as ptm\n",
    "%load_ext autoreload\n",
    "%autoreload 2\n",
    "\n",
    "from lib.signals import price_signals\n",
    "from lib.lib_loader import *\n"
   ]
  },
  {
   "cell_type": "code",
   "execution_count": null,
   "id": "3a9bcd7b-932b-4bf9-a529-0cc8ba63988a",
   "metadata": {},
   "outputs": [],
   "source": [
    "# Mid Caps\n",
    "tickers = ['AA', 'AACAY', 'AAL', 'AAON', 'AAP', 'AAPG', 'AB', 'ABCB', 'ABG', 'ACA', 'ACAD', 'ACDVF', 'ACHR', 'ACI', 'ACIW', 'ACLX', 'ACM', 'ACT', 'ADC', 'ADMA', 'ADRZY', 'ADT', 'AEG', 'AEIS', 'AES', 'AETUF', 'AFG', 'AFLYY', 'AG', 'AGCO', 'AGESY', 'AGI', 'AGNC', 'AGO', 'AGYS', 'AHEXY', 'AHR', 'AI', 'AIRYY', 'AIT', 'AIZ', 'AKAM', 'AKO.B', 'AKRO', 'AKZOY', 'AL', 'ALAB', 'ALB', 'ALFVY', 'ALGM', 'ALGN', 'ALIT', 'ALK', 'ALKS', 'ALKT', 'ALLE', 'ALLY', 'ALNPY', 'ALSMY', 'ALSN', 'ALV', 'AM', 'AMCR', 'AMED', 'AMG', 'AMH', 'AMKR', 'AMTM', 'AN', 'ANF', 'ANIOY', 'AOS', 'APA', 'APAM', 'APG', 'APPF', 'APTV', 'AQN', 'AR', 'ARCAY', 'ARCC', 'ARE', 'ARKAY', 'ARLP', 'ARMK', 'AROC', 'ARW', 'ASAN', 'ASB', 'ASEKY', 'ASND', 'ASO', 'ASR', 'ASTS', 'ATAT', 'ATDRY', 'ATGE', 'ATHM', 'ATI', 'ATMU', 'ATR', 'AU', 'AUB', 'AUOTY', 'AUR', 'AVA', 'AVAL', 'AVAV', 'AVNT', 'AVPT', 'AVT', 'AVTR', 'AVY', 'AWI', 'AX', 'AXS', 'AXSM', 'AXTA', 'AYI', 'BAH', 'BALL', 'BANF', 'BAP', 'BATRA', 'BAX', 'BBAR', 'BBIO', 'BBSEY', 'BBWI', 'BBY', 'BC', 'BCC', 'BCH', 'BCKIY', 'BCO', 'BCPC', 'BDC', 'BE', 'BEN', 'BEP', 'BF.B', 'BFAM', 'BG', 'BGC', 'BIIB', 'BILI', 'BILL', 'BIO', 'BIP', 'BIPC', 'BIRK', 'BJ', 'BKEAY', 'BKGFY', 'BKH', 'BL', 'BLCO', 'BLD', 'BLDR', 'BLFBY', 'BLKB', 'BLWYY', 'BMA', 'BMI', 'BMRN', 'BMRRY', 'BNL', 'BNTGY', 'BOKF', 'BOOT', 'BOSSY', 'BOX', 'BPCGY', 'BPMC', 'BPOP', 'BRBR', 'BRC', 'BRKR', 'BROS', 'BRSL', 'BRTHY', 'BRX', 'BRZE', 'BSAC', 'BSBR', 'BSY', 'BTDPY', 'BTG', 'BTLCY', 'BTSG', 'BUR', 'BURBY', 'BURL', 'BVN', 'BWA', 'BWIN', 'BWXT', 'BXMT', 'BXP', 'BXSL', 'BYD', 'BZ', 'BZLFY', 'CAAP', 'CABGY', 'CACC', 'CACI', 'CADE', 'CAE', 'CAG', 'CAKE', 'CALM', 'CALX', 'CAMT', 'CAR', 'CARG', 'CART', 'CASY', 'CATY', 'CAVA', 'CBSH', 'CBT', 'CBU', 'CBZ', 'CCCS', 'CCHGY', 'CCK', 'CCOEY', 'CCOZY', 'CDE', 'CDP', 'CE', 'CELH', 'CF', 'CFLT', 'CFR', 'CGNX', 'CHA', 'CHDN', 'CHE', 'CHEOY', 'CHH', 'CHRD', 'CHRW', 'CHWY', 'CHX', 'CHYM', 'CIADY', 'CIB', 'CIEN', 'CIG', 'CIGI', 'CJEWY', 'CLBT', 'CLF', 'CLH', 'CLS', 'CLSK', 'CLVT', 'CLX', 'CMA', 'CMC', 'CNA', 'CNC', 'CNH', 'CNK', 'CNM', 'CNO', 'CNR', 'CNS', 'CNX', 'CNXC', 'COHR', 'COIHY', 'COLB', 'COLD', 'COLM', 'COMP', 'COO', 'COOP', 'CORT', 'CORZ', 'COTY', 'COVTY', 'CPA', 'CPB', 'CPCAY', 'CPT', 'CPYYY', 'CR', 'CRBG', 'CRC', 'CRDO', 'CRHKY', 'CRK', 'CRL', 'CROX', 'CRPJY', 'CRRFY', 'CRS', 'CRSP', 'CRUS', 'CSL', 'CSW', 'CTRA', 'CTRE', 'CTTAY', 'CUBE', 'CUYTY', 'CUZ', 'CVCO', 'CVI', 'CVLT', 'CW', 'CWAN', 'CWEN', 'CWENA', 'CWST', 'CWYUF', 'CX', 'CXT', 'CYBR', 'CYGIY', 'CYTK', 'CZR']"
   ]
  },
  {
   "cell_type": "code",
   "execution_count": null,
   "id": "08c99653-08e2-4b19-a8b5-7494991570a4",
   "metadata": {},
   "outputs": [],
   "source": [
    "from_date = date(1928, 1, 1) \n",
    "today = date.today()\n",
    "interval='d'\n",
    "try:\n",
    "    prices = pd.read_pickle('mid-cap_prices.pkl')\n",
    "else:\n",
    "    prices = ptm.load_data(tickers, from_date, today, interval)\n",
    "    # save mid caps to pickle\n",
    "    prices.to_pickle('mid-cap_prices.pkl')"
   ]
  },
  {
   "cell_type": "code",
   "execution_count": null,
   "id": "69c150dc-15cb-4f75-9d3f-c339ac0b40a3",
   "metadata": {},
   "outputs": [],
   "source": []
  },
  {
   "cell_type": "code",
   "execution_count": null,
   "id": "cbb83f48-fae9-420d-927c-8ec65c5fe92d",
   "metadata": {},
   "outputs": [],
   "source": []
  },
  {
   "cell_type": "code",
   "execution_count": null,
   "id": "009eea8d-13ea-4324-b365-938b619277c9",
   "metadata": {},
   "outputs": [],
   "source": []
  },
  {
   "cell_type": "code",
   "execution_count": null,
   "id": "794d601d-5da1-4052-81ad-57d0f356cb15",
   "metadata": {},
   "outputs": [],
   "source": []
  },
  {
   "cell_type": "code",
   "execution_count": null,
   "id": "5af0929e-ec0b-41a1-9020-02b299c13ae2",
   "metadata": {},
   "outputs": [],
   "source": []
  },
  {
   "cell_type": "code",
   "execution_count": null,
   "id": "1ca10711-0737-47bd-985d-4526cc40bf32",
   "metadata": {},
   "outputs": [],
   "source": []
  },
  {
   "cell_type": "code",
   "execution_count": null,
   "id": "2a66214b-2f3f-4f4f-9c55-6f5caa548b76",
   "metadata": {},
   "outputs": [],
   "source": []
  },
  {
   "cell_type": "code",
   "execution_count": null,
   "id": "f822c5d0-898e-41db-b725-d4b478f48128",
   "metadata": {},
   "outputs": [],
   "source": []
  },
  {
   "cell_type": "code",
   "execution_count": null,
   "id": "ee14ea52-1cec-4e35-b56f-0f6318b67132",
   "metadata": {},
   "outputs": [],
   "source": []
  },
  {
   "cell_type": "code",
   "execution_count": null,
   "id": "be071030-4cc2-464c-b331-fd5ea3670fdc",
   "metadata": {},
   "outputs": [],
   "source": []
  },
  {
   "cell_type": "code",
   "execution_count": null,
   "id": "9c3b1e1d-ff30-4fa3-8418-409de8c0ab4d",
   "metadata": {},
   "outputs": [],
   "source": []
  }
 ],
 "metadata": {
  "kernelspec": {
   "display_name": "Python 3 (ipykernel)",
   "language": "python",
   "name": "python3"
  },
  "language_info": {
   "codemirror_mode": {
    "name": "ipython",
    "version": 3
   },
   "file_extension": ".py",
   "mimetype": "text/x-python",
   "name": "python",
   "nbconvert_exporter": "python",
   "pygments_lexer": "ipython3",
   "version": "3.10.16"
  }
 },
 "nbformat": 4,
 "nbformat_minor": 5
}
